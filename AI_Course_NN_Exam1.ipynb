{
  "nbformat": 4,
  "nbformat_minor": 0,
  "metadata": {
    "colab": {
      "private_outputs": true,
      "provenance": [],
      "authorship_tag": "ABX9TyNQFc3dO6twY6GNMrA8/yzU",
      "include_colab_link": true
    },
    "kernelspec": {
      "name": "python3",
      "display_name": "Python 3"
    },
    "language_info": {
      "name": "python"
    }
  },
  "cells": [
    {
      "cell_type": "markdown",
      "metadata": {
        "id": "view-in-github",
        "colab_type": "text"
      },
      "source": [
        "<a href=\"https://colab.research.google.com/github/VALENTINAMOVILSANDOVAL/ai2023/blob/main/AI_Course_NN_Exam1.ipynb\" target=\"_parent\"><img src=\"https://colab.research.google.com/assets/colab-badge.svg\" alt=\"Open In Colab\"/></a>"
      ]
    },
    {
      "cell_type": "markdown",
      "source": [
        "# **Examen I**\n",
        "\n",
        "* Enunciado: tomar los datos enviados ayer o los que estan en el material de clase --> neural metworks --> examen --> datos (cualquier dataset)\n",
        "* Elegir 300 datos, de 3 variables.\n",
        "* Asignar 2 entradas y 1 salida.\n",
        "* Alimentar un MLP de 2 entradas 1 capa oculta y 1 salida con cualquier funcion de activacion\n",
        "* Realizar actualizacion de los pesos de la capa de salida por lote \n",
        "* Graficas gradiente\n",
        "* Responder la pregunta: que sucede con el gradiente si en la capa oculta usan una sigmoide y luego cambian a una lineal que cruce por 0.5?"
      ],
      "metadata": {
        "id": "bFoJ7tdM4vOH"
      }
    },
    {
      "cell_type": "code",
      "source": [
        "# Libraries\n",
        "\n",
        "import numpy as np\n",
        "import pandas as pd\n",
        "import matplotlib.pyplot as plt\n",
        "\n",
        "from google.colab import drive"
      ],
      "metadata": {
        "id": "p-x0ZCfrw2M7"
      },
      "execution_count": null,
      "outputs": []
    },
    {
      "cell_type": "code",
      "source": [
        "# Multi Layer Perceptron \n",
        "\n",
        "class NeuralNetwork:\n",
        "    def __init__(self):\n",
        "        # Neural Network Architecture\n",
        "\n",
        "        self.input_layer_size = 2\n",
        "        self.hidden_layer_size = 2\n",
        "        self.output_layer_size = 1\n",
        "\n",
        "        # Initialize weights randomly\n",
        "\n",
        "        self.W1 = np.random.randn(self.input_layer_size, self.hidden_layer_size)\n",
        "        self.W2 = np.random.randn(self.hidden_layer_size, self.output_layer_size)\n",
        "\n",
        "    def sigmoid(self, z):\n",
        "\n",
        "        # Sigmoidal activation function\n",
        "\n",
        "        return 1 / (1 + np.exp(-z))\n",
        "\n",
        "    def sigmoid_prime(self, z):\n",
        "\n",
        "        # Derivative of the sigmoidal activation function\n",
        "\n",
        "        return self.sigmoid(z) * (1 - self.sigmoid(z))\n",
        "\n",
        "    def feedforward(self, X):\n",
        "\n",
        "        # Forward propagation\n",
        "\n",
        "        self.z2 = np.dot(X, self.W1)\n",
        "        self.a2 = self.sigmoid(self.z2)\n",
        "        self.z3 = np.dot(self.a2, self.W2)\n",
        "        y_hat = self.sigmoid(self.z3)\n",
        "        return y_hat\n",
        "\n",
        "    def backpropagation(self, X, y, y_hat):\n",
        "\n",
        "        # Back propagation\n",
        "\n",
        "        delta3 = np.multiply(-(y - y_hat), self.sigmoid_prime(self.z3))\n",
        "        dJdW2 = np.dot(self.a2.T, delta3)\n",
        "\n",
        "        delta2 = np.dot(delta3, self.W2.T) * self.sigmoid_prime(self.z2)\n",
        "        dJdW1 = np.dot(X.T, delta2)\n",
        "\n",
        "        return dJdW1, dJdW2\n",
        "\n",
        "    def train(self, X, y, epochs, learning_rate):\n",
        "\n",
        "        # Neural network training\n",
        "\n",
        "        gradient_magnitude = []\n",
        "        for i in range(epochs):\n",
        "            y_hat = self.feedforward(X)\n",
        "            dJdW1, dJdW2 = self.backpropagation(X, y, y_hat)\n",
        "\n",
        "            self.W1 -= learning_rate * dJdW1\n",
        "            self.W2 -= learning_rate * dJdW2\n",
        "\n",
        "            # Calculates the magnitude of the gradient and stores its value in a list\n",
        "\n",
        "            gradient_magnitude.append(np.sqrt(np.sum(dJdW1**2) + np.sum(dJdW2**2)))\n",
        "\n",
        "        # Plot the magnitude of the gradient vs the number of epochs\n",
        "\n",
        "        plt.plot(range(epochs), gradient_magnitude)\n",
        "        plt.xlabel('Épocas')\n",
        "        plt.ylabel('Magnitud del gradiente')\n",
        "        plt.show()\n",
        "        "
      ],
      "metadata": {
        "id": "9oBoD2B64xmW"
      },
      "execution_count": null,
      "outputs": []
    },
    {
      "cell_type": "markdown",
      "source": [
        "# **Solución**"
      ],
      "metadata": {
        "id": "3C_Yyg5YzrLK"
      }
    },
    {
      "cell_type": "code",
      "source": [
        "# Import datasets from Google Drive\n",
        "\n",
        "url = \"https://drive.google.com/uc?id=18w4K7e3aYSH21j7V7Elczg9iBacyC-BK&export=download\""
      ],
      "metadata": {
        "id": "19smUOOmxq6S"
      },
      "execution_count": null,
      "outputs": []
    },
    {
      "cell_type": "code",
      "source": [
        "# Upload exam data\n",
        "\n",
        "df = pd.read_csv(url, header=None)\n",
        "\n",
        "df = df.iloc[:, :3]"
      ],
      "metadata": {
        "id": "dnNixrK9D9MV"
      },
      "execution_count": null,
      "outputs": []
    },
    {
      "cell_type": "code",
      "source": [
        "# Data\n",
        "\n",
        "df"
      ],
      "metadata": {
        "id": "F64NoMrvlgDb"
      },
      "execution_count": null,
      "outputs": []
    },
    {
      "cell_type": "code",
      "source": [
        "# Datos de entrenamiento\n",
        "\n",
        "X = df.iloc[:300, :2].to_numpy()\n",
        "y = df.iloc[:300, 2].to_numpy().reshape(-1, 1)"
      ],
      "metadata": {
        "id": "Y0mVf_nlj_GM"
      },
      "execution_count": null,
      "outputs": []
    },
    {
      "cell_type": "code",
      "source": [
        "# Entrenamiento de la red neuronal\n",
        "nn = NeuralNetwork()\n",
        "nn.train(X, y, epochs=1000, learning_rate=1)"
      ],
      "metadata": {
        "id": "9E4qE97YFfaN"
      },
      "execution_count": null,
      "outputs": []
    },
    {
      "cell_type": "code",
      "source": [
        "# Prueba de la red neuronal\n",
        "\n",
        "print(\"Predicciones:\", \"\\n\")\n",
        "\n",
        "for i in range(len(X)):\n",
        "    y_hat = nn.feedforward(X[i])\n",
        "    print(X[i], y_hat)"
      ],
      "metadata": {
        "id": "u3fypIoKFj9W"
      },
      "execution_count": null,
      "outputs": []
    }
  ]
}